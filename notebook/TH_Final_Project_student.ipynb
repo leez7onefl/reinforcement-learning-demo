{
 "cells": [
  {
   "cell_type": "markdown",
   "metadata": {
    "id": "Z7APFgsL9Krs"
   },
   "source": [
    "# Final Project: [HighwayEnv](https://github.com/Farama-Foundation/HighwayEnv/tree/master)\n",
    "\n",
    "Ressources:\n",
    "- **Highway-env** [👨‍💻Repo](https://github.com/Farama-Foundation/HighwayEnv/tree/master) | [📜Documentation](http://highway-env.farama.org/quickstart/)\n",
    "- **OpenAI Gym**\n",
    "- **Stable-Baselines3**: [👨‍💻Repo](https://github.com/DLR-RM/stable-baselines3) | [📜Documentation](https://stable-baselines.readthedocs.io/en/master/)\n",
    "\n",
    "### Your task: Solve the Highway\n",
    "![](https://raw.githubusercontent.com/eleurent/highway-env/gh-media/docs/media/highway.gif?raw=true)\n",
    "- By Group of two, three\n",
    "- Use *at least* two different RL Algorithms\n",
    "  - try to implement at least one 'by hand'\n",
    "\n",
    "### Evaluation\n",
    "*Based on the report (showing that you understood what you did), the performances and the code (you did something that works).*\n",
    "\n",
    "- **Produce a notebook**\n",
    "  -  The notebook must run one one go, I will not loose time trying to fix your env...\n",
    "  - Possible to send a git repo with the weight so that I ca nrun them locally.\n",
    "- **Produce a 2-5 pages report**\n",
    "  - Describe Your choices and explain the algorithms used.\n",
    "  - Benchmark and compare them depending on their hyperparameters.\n",
    "\n",
    "*Analysis could include exploration of hyperparameters, figures of training, explainations of how your algorithm works*\n",
    "\n",
    "### Roadmap\n",
    "- 📆 **12 feb 2025**: Send Me your group names and composition\n",
    "- 📆 **25 mars** : Send a report (5-10 pages) and a notebook / script\n",
    "\n"
   ]
  },
  {
   "cell_type": "markdown",
   "metadata": {
    "id": "Fc1YR7k69WMT"
   },
   "source": [
    "## Utlilities\n",
    "⚠️ *Do not Modify anything here !*\n",
    "\n",
    "but always read everything to be sure of what is available\n",
    "\n",
    "### Imports"
   ]
  },
  {
   "cell_type": "code",
   "execution_count": 1,
   "metadata": {
    "colab": {
     "base_uri": "https://localhost:8080/"
    },
    "id": "Czc7gbW2HsKE",
    "outputId": "87ac10bb-65fd-4612-b876-2f0cb4022488"
   },
   "outputs": [
    {
     "name": "stdout",
     "output_type": "stream",
     "text": [
      "Looking in indexes: https://pypi.org/simple, https://pypi.ngc.nvidia.com\n",
      "Requirement already satisfied: stable-baselines3[extra] in e:\\anaconda_folder\\lib\\site-packages (2.5.0)\n",
      "Requirement already satisfied: gymnasium<1.1.0,>=0.29.1 in e:\\anaconda_folder\\lib\\site-packages (from stable-baselines3[extra]) (1.0.0)\n",
      "Requirement already satisfied: numpy<3.0,>=1.20 in e:\\anaconda_folder\\lib\\site-packages (from stable-baselines3[extra]) (1.26.4)\n",
      "Requirement already satisfied: torch<3.0,>=2.3 in e:\\anaconda_folder\\lib\\site-packages (from stable-baselines3[extra]) (2.6.0)\n",
      "Requirement already satisfied: cloudpickle in e:\\anaconda_folder\\lib\\site-packages (from stable-baselines3[extra]) (3.0.0)\n",
      "Requirement already satisfied: pandas in e:\\anaconda_folder\\lib\\site-packages (from stable-baselines3[extra]) (2.2.2)\n",
      "Requirement already satisfied: matplotlib in e:\\anaconda_folder\\lib\\site-packages (from stable-baselines3[extra]) (3.9.2)\n",
      "Requirement already satisfied: opencv-python in e:\\anaconda_folder\\lib\\site-packages (from stable-baselines3[extra]) (4.11.0.86)\n",
      "Requirement already satisfied: pygame in e:\\anaconda_folder\\lib\\site-packages (from stable-baselines3[extra]) (2.6.1)\n",
      "Requirement already satisfied: tensorboard>=2.9.1 in e:\\anaconda_folder\\lib\\site-packages (from stable-baselines3[extra]) (2.18.0)\n",
      "Requirement already satisfied: psutil in e:\\anaconda_folder\\lib\\site-packages (from stable-baselines3[extra]) (6.1.1)\n",
      "Requirement already satisfied: tqdm in e:\\anaconda_folder\\lib\\site-packages (from stable-baselines3[extra]) (4.66.5)\n",
      "Requirement already satisfied: rich in e:\\anaconda_folder\\lib\\site-packages (from stable-baselines3[extra]) (13.9.4)\n",
      "Requirement already satisfied: ale-py>=0.9.0 in e:\\anaconda_folder\\lib\\site-packages (from stable-baselines3[extra]) (0.10.2)\n",
      "Requirement already satisfied: pillow in e:\\anaconda_folder\\lib\\site-packages (from stable-baselines3[extra]) (9.5.0)\n",
      "Requirement already satisfied: typing-extensions>=4.3.0 in e:\\anaconda_folder\\lib\\site-packages (from gymnasium<1.1.0,>=0.29.1->stable-baselines3[extra]) (4.12.2)\n",
      "Requirement already satisfied: farama-notifications>=0.0.1 in e:\\anaconda_folder\\lib\\site-packages (from gymnasium<1.1.0,>=0.29.1->stable-baselines3[extra]) (0.0.4)\n",
      "Requirement already satisfied: absl-py>=0.4 in e:\\anaconda_folder\\lib\\site-packages (from tensorboard>=2.9.1->stable-baselines3[extra]) (2.1.0)\n",
      "Requirement already satisfied: grpcio>=1.48.2 in e:\\anaconda_folder\\lib\\site-packages (from tensorboard>=2.9.1->stable-baselines3[extra]) (1.70.0)\n",
      "Requirement already satisfied: markdown>=2.6.8 in e:\\anaconda_folder\\lib\\site-packages (from tensorboard>=2.9.1->stable-baselines3[extra]) (3.4.1)\n",
      "Requirement already satisfied: packaging in e:\\anaconda_folder\\lib\\site-packages (from tensorboard>=2.9.1->stable-baselines3[extra]) (24.2)\n",
      "Requirement already satisfied: protobuf!=4.24.0,>=3.19.6 in e:\\anaconda_folder\\lib\\site-packages (from tensorboard>=2.9.1->stable-baselines3[extra]) (4.25.6)\n",
      "Requirement already satisfied: setuptools>=41.0.0 in e:\\anaconda_folder\\lib\\site-packages (from tensorboard>=2.9.1->stable-baselines3[extra]) (75.1.0)\n",
      "Requirement already satisfied: six>1.9 in e:\\anaconda_folder\\lib\\site-packages (from tensorboard>=2.9.1->stable-baselines3[extra]) (1.17.0)\n",
      "Requirement already satisfied: tensorboard-data-server<0.8.0,>=0.7.0 in e:\\anaconda_folder\\lib\\site-packages (from tensorboard>=2.9.1->stable-baselines3[extra]) (0.7.2)\n",
      "Requirement already satisfied: werkzeug>=1.0.1 in e:\\anaconda_folder\\lib\\site-packages (from tensorboard>=2.9.1->stable-baselines3[extra]) (2.2.3)\n",
      "Requirement already satisfied: filelock in e:\\anaconda_folder\\lib\\site-packages (from torch<3.0,>=2.3->stable-baselines3[extra]) (3.13.1)\n",
      "Requirement already satisfied: networkx in e:\\anaconda_folder\\lib\\site-packages (from torch<3.0,>=2.3->stable-baselines3[extra]) (3.3)\n",
      "Requirement already satisfied: jinja2 in e:\\anaconda_folder\\lib\\site-packages (from torch<3.0,>=2.3->stable-baselines3[extra]) (3.1.5)\n",
      "Requirement already satisfied: fsspec in e:\\anaconda_folder\\lib\\site-packages (from torch<3.0,>=2.3->stable-baselines3[extra]) (2025.2.0)\n",
      "Requirement already satisfied: sympy==1.13.1 in e:\\anaconda_folder\\lib\\site-packages (from torch<3.0,>=2.3->stable-baselines3[extra]) (1.13.1)\n",
      "Requirement already satisfied: mpmath<1.4,>=1.1.0 in e:\\anaconda_folder\\lib\\site-packages (from sympy==1.13.1->torch<3.0,>=2.3->stable-baselines3[extra]) (1.3.0)\n",
      "Requirement already satisfied: contourpy>=1.0.1 in e:\\anaconda_folder\\lib\\site-packages (from matplotlib->stable-baselines3[extra]) (1.2.0)\n",
      "Requirement already satisfied: cycler>=0.10 in e:\\anaconda_folder\\lib\\site-packages (from matplotlib->stable-baselines3[extra]) (0.11.0)\n",
      "Requirement already satisfied: fonttools>=4.22.0 in e:\\anaconda_folder\\lib\\site-packages (from matplotlib->stable-baselines3[extra]) (4.51.0)\n",
      "Requirement already satisfied: kiwisolver>=1.3.1 in e:\\anaconda_folder\\lib\\site-packages (from matplotlib->stable-baselines3[extra]) (1.4.4)\n",
      "Requirement already satisfied: pyparsing>=2.3.1 in e:\\anaconda_folder\\lib\\site-packages (from matplotlib->stable-baselines3[extra]) (3.1.2)\n",
      "Requirement already satisfied: python-dateutil>=2.7 in e:\\anaconda_folder\\lib\\site-packages (from matplotlib->stable-baselines3[extra]) (2.9.0.post0)\n",
      "Requirement already satisfied: pytz>=2020.1 in e:\\anaconda_folder\\lib\\site-packages (from pandas->stable-baselines3[extra]) (2025.1)\n",
      "Requirement already satisfied: tzdata>=2022.7 in e:\\anaconda_folder\\lib\\site-packages (from pandas->stable-baselines3[extra]) (2025.1)\n",
      "Requirement already satisfied: markdown-it-py>=2.2.0 in e:\\anaconda_folder\\lib\\site-packages (from rich->stable-baselines3[extra]) (3.0.0)\n",
      "Requirement already satisfied: pygments<3.0.0,>=2.13.0 in e:\\anaconda_folder\\lib\\site-packages (from rich->stable-baselines3[extra]) (2.19.1)\n",
      "Requirement already satisfied: colorama in e:\\anaconda_folder\\lib\\site-packages (from tqdm->stable-baselines3[extra]) (0.4.6)\n",
      "Requirement already satisfied: mdurl~=0.1 in e:\\anaconda_folder\\lib\\site-packages (from markdown-it-py>=2.2.0->rich->stable-baselines3[extra]) (0.1.2)\n",
      "Requirement already satisfied: MarkupSafe>=2.1.1 in e:\\anaconda_folder\\lib\\site-packages (from werkzeug>=1.0.1->tensorboard>=2.9.1->stable-baselines3[extra]) (3.0.2)\n",
      "Looking in indexes: https://pypi.org/simple, https://pypi.ngc.nvidia.com\n",
      "Requirement already satisfied: highway_env in e:\\anaconda_folder\\lib\\site-packages (1.10.1)\n",
      "Requirement already satisfied: gymnasium>=1.0.0a2 in e:\\anaconda_folder\\lib\\site-packages (from highway_env) (1.0.0)\n",
      "Requirement already satisfied: farama-notifications>=0.0.1 in e:\\anaconda_folder\\lib\\site-packages (from highway_env) (0.0.4)\n",
      "Requirement already satisfied: numpy>=1.21.0 in e:\\anaconda_folder\\lib\\site-packages (from highway_env) (1.26.4)\n",
      "Requirement already satisfied: pygame>=2.0.2 in e:\\anaconda_folder\\lib\\site-packages (from highway_env) (2.6.1)\n",
      "Requirement already satisfied: matplotlib in e:\\anaconda_folder\\lib\\site-packages (from highway_env) (3.9.2)\n",
      "Requirement already satisfied: pandas in e:\\anaconda_folder\\lib\\site-packages (from highway_env) (2.2.2)\n",
      "Requirement already satisfied: scipy in e:\\anaconda_folder\\lib\\site-packages (from highway_env) (1.13.1)\n",
      "Requirement already satisfied: cloudpickle>=1.2.0 in e:\\anaconda_folder\\lib\\site-packages (from gymnasium>=1.0.0a2->highway_env) (3.0.0)\n",
      "Requirement already satisfied: typing-extensions>=4.3.0 in e:\\anaconda_folder\\lib\\site-packages (from gymnasium>=1.0.0a2->highway_env) (4.12.2)\n",
      "Requirement already satisfied: contourpy>=1.0.1 in e:\\anaconda_folder\\lib\\site-packages (from matplotlib->highway_env) (1.2.0)\n",
      "Requirement already satisfied: cycler>=0.10 in e:\\anaconda_folder\\lib\\site-packages (from matplotlib->highway_env) (0.11.0)\n",
      "Requirement already satisfied: fonttools>=4.22.0 in e:\\anaconda_folder\\lib\\site-packages (from matplotlib->highway_env) (4.51.0)\n",
      "Requirement already satisfied: kiwisolver>=1.3.1 in e:\\anaconda_folder\\lib\\site-packages (from matplotlib->highway_env) (1.4.4)\n",
      "Requirement already satisfied: packaging>=20.0 in e:\\anaconda_folder\\lib\\site-packages (from matplotlib->highway_env) (24.2)\n",
      "Requirement already satisfied: pillow>=8 in e:\\anaconda_folder\\lib\\site-packages (from matplotlib->highway_env) (9.5.0)\n",
      "Requirement already satisfied: pyparsing>=2.3.1 in e:\\anaconda_folder\\lib\\site-packages (from matplotlib->highway_env) (3.1.2)\n",
      "Requirement already satisfied: python-dateutil>=2.7 in e:\\anaconda_folder\\lib\\site-packages (from matplotlib->highway_env) (2.9.0.post0)\n",
      "Requirement already satisfied: pytz>=2020.1 in e:\\anaconda_folder\\lib\\site-packages (from pandas->highway_env) (2025.1)\n",
      "Requirement already satisfied: tzdata>=2022.7 in e:\\anaconda_folder\\lib\\site-packages (from pandas->highway_env) (2025.1)\n",
      "Requirement already satisfied: six>=1.5 in e:\\anaconda_folder\\lib\\site-packages (from python-dateutil>=2.7->matplotlib->highway_env) (1.17.0)\n"
     ]
    }
   ],
   "source": [
    "!pip install gymnasium>=1.0.0a2\n",
    "!pip install farama-notifications>=0.0.1\n",
    "!pip install numpy>=1.21.0\n",
    "!pip install pygame>=2.0.2\n",
    "!pip install stable-baselines3[extra]\n",
    "!pip install highway_env\n",
    "#tensorboard loading if you want to use it\n",
    "%load_ext tensorboard"
   ]
  },
  {
   "cell_type": "markdown",
   "metadata": {
    "id": "Wfl7SO8UKFN6"
   },
   "source": [
    "### Utils"
   ]
  },
  {
   "cell_type": "code",
   "execution_count": 7,
   "metadata": {
    "id": "BBE3MGBbKHzr"
   },
   "outputs": [],
   "source": [
    "### VIDEO RECORDER\n",
    "# Set up fake display; otherwise rendering will fail\n",
    "import os\n",
    "import base64\n",
    "from pathlib import Path\n",
    "from IPython import display as ipythondisplay\n",
    "from tqdm import tqdm\n",
    "\n",
    "os.system(\"Xvfb :1 -screen 0 1024x768x24 &\")\n",
    "os.environ['DISPLAY'] = ':1'\n",
    "\n",
    "from stable_baselines3.common.vec_env import VecVideoRecorder, DummyVecEnv\n",
    "\n",
    "def record_video(env_id, model, video_length=500, prefix=\"\", video_folder=\"videos/\", fps = 60):\n",
    "    \"\"\"\n",
    "    :param env_id: (str)\n",
    "    :param model: (RL model)\n",
    "    :param video_length: (int)\n",
    "    :param prefix: (str)\n",
    "    :param video_folder: (str)\n",
    "    \"\"\"\n",
    "    eval_env = DummyVecEnv([lambda: gym.make(env_id, render_mode=\"rgb_array\")])\n",
    "    eval_env.metadata[\"render_fps\"] = fps\n",
    "    # Start the video at step=0 and record 500 steps\n",
    "    eval_env = VecVideoRecorder(\n",
    "        eval_env,\n",
    "        video_folder=video_folder,\n",
    "        record_video_trigger=lambda step: step == 0,\n",
    "        video_length=video_length,\n",
    "        name_prefix=prefix,\n",
    "    )\n",
    "    obs = eval_env.reset()\n",
    "    for _ in tqdm(range(video_length)):\n",
    "        action, _ = model.predict(obs)\n",
    "        obs, _, _, _ = eval_env.step(action)\n",
    "\n",
    "    # Close the video recorder\n",
    "    eval_env.close()\n",
    "\n",
    "def show_videos(video_path=\"\", prefix=\"\"):\n",
    "    \"\"\"\n",
    "    Taken from https://github.com/eleurent/highway-env\n",
    "\n",
    "    :param video_path: (str) Path to the folder containing videos\n",
    "    :param prefix: (str) Filter the video, showing only the only starting with this prefix\n",
    "    \"\"\"\n",
    "    html = []\n",
    "    for mp4 in Path(video_path).glob(\"{}*.mp4\".format(prefix)):\n",
    "        video_b64 = base64.b64encode(mp4.read_bytes())\n",
    "        html.append(\n",
    "            \"\"\"<video alt=\"{}\" autoplay\n",
    "                    loop controls style=\"height: 200px;\">\n",
    "                    <source src=\"data:video/mp4;base64,{}\" type=\"video/mp4\" />\n",
    "                </video>\"\"\".format(\n",
    "                mp4, video_b64.decode(\"ascii\")\n",
    "            )\n",
    "        )\n",
    "    ipythondisplay.display(ipythondisplay.HTML(data=\"<br>\".join(html)))"
   ]
  },
  {
   "cell_type": "code",
   "execution_count": 8,
   "metadata": {
    "id": "PWhU7AyGjEmv"
   },
   "outputs": [],
   "source": [
    "# prompt: define an evaluation function computing mean reward and elapsed episode time on a few runs of vectorized environments\n",
    "import numpy as np\n",
    "\n",
    "def evaluate(model, num_episodes=30):\n",
    "    \"\"\"\n",
    "    Evaluates a reinforcement learning agent.\n",
    "\n",
    "    Args:\n",
    "        model: The trained RL model.\n",
    "        env: The environment to evaluate the model on.\n",
    "        num_episodes: The number of episodes to run for evaluation.\n",
    "\n",
    "    Returns:\n",
    "        A tuple containing the mean reward and the mean elapsed time per episode.\n",
    "    \"\"\"\n",
    "    env_id = \"highway-fast-v0\"\n",
    "    env = make_vec_env(env_id)\n",
    "    episode_rewards = []\n",
    "    episode_times = []\n",
    "    print(f\"evaluating Model on {num_episodes} episodes ...\")\n",
    "    for _ in tqdm(range(num_episodes)):\n",
    "        obs = env.reset()\n",
    "        done = False\n",
    "        total_reward = 0\n",
    "        start_time = 0 # Assuming env provides time information. Replace with actual time tracking\n",
    "        current_time = 0\n",
    "\n",
    "        while not done:\n",
    "          action, _states = model.predict(obs, deterministic=True)\n",
    "          obs, reward, done, info = env.step(action)\n",
    "          total_reward += reward\n",
    "          current_time += 1 # Replace with actual elapsed time from env info\n",
    "\n",
    "        episode_rewards.append(total_reward)\n",
    "        episode_times.append(current_time - start_time)\n",
    "\n",
    "    mean_reward = np.mean(episode_rewards)\n",
    "    mean_time = np.mean(episode_times)\n",
    "    std_reward = np.std(episode_rewards)\n",
    "    std_time = np.std(episode_times)\n",
    "    print(f\"\\n{'-'*50}\\nResults :\\n\\t- Mean Reward: {mean_reward:.3f} ± {std_reward:.2f} \\n\\t- Mean elapsed Time per episode: {mean_time:.3f} ± {std_time:.2f}\\n{'-'*50}\")\n",
    "    return mean_reward, mean_time\n"
   ]
  },
  {
   "cell_type": "markdown",
   "metadata": {
    "id": "g0IMoR_dHw5E"
   },
   "source": [
    "## The Highway Environment"
   ]
  },
  {
   "cell_type": "code",
   "execution_count": 9,
   "metadata": {
    "id": "N-T_1wXCV0if"
   },
   "outputs": [],
   "source": [
    "## IMPORTS\n",
    "import gymnasium as gym\n",
    "from stable_baselines3 import PPO, DQN\n",
    "from stable_baselines3.common.env_util import make_vec_env\n",
    "from stable_baselines3.common.vec_env import SubprocVecEnv\n",
    "import highway_env  # noqa: F401"
   ]
  },
  {
   "cell_type": "markdown",
   "metadata": {
    "id": "KFya-bWomgvJ"
   },
   "source": [
    "## Load and explore Environment\n",
    "Lets first load an untrained model and see how it behaves in the environment."
   ]
  },
  {
   "cell_type": "code",
   "execution_count": 10,
   "metadata": {
    "id": "yb_5iwfHeW3Z"
   },
   "outputs": [
    {
     "name": "stdout",
     "output_type": "stream",
     "text": [
      "Using cpu device\n"
     ]
    },
    {
     "name": "stderr",
     "output_type": "stream",
     "text": [
      " 96%|██████████████████████████████████████████████████████████████████████████████▋   | 48/50 [00:02<00:00, 22.73it/s]"
     ]
    },
    {
     "name": "stdout",
     "output_type": "stream",
     "text": [
      "Saving video to E:\\AI\\projets\\projetfinalRL\\vf\\videos\\random-agent-step-0-to-step-50.mp4\n",
      "Moviepy - Building video E:\\AI\\projets\\projetfinalRL\\vf\\videos\\random-agent-step-0-to-step-50.mp4.\n",
      "Moviepy - Writing video E:\\AI\\projets\\projetfinalRL\\vf\\videos\\random-agent-step-0-to-step-50.mp4\n",
      "\n"
     ]
    },
    {
     "name": "stderr",
     "output_type": "stream",
     "text": [
      "\n",
      "t:   0%|                                                                              | 0/51 [00:00<?, ?it/s, now=None]\u001b[A\n",
      "100%|██████████████████████████████████████████████████████████████████████████████████| 50/50 [00:02<00:00, 21.45it/s]\u001b[A"
     ]
    },
    {
     "name": "stdout",
     "output_type": "stream",
     "text": [
      "Moviepy - Done !\n",
      "Moviepy - video ready E:\\AI\\projets\\projetfinalRL\\vf\\videos\\random-agent-step-0-to-step-50.mp4\n"
     ]
    },
    {
     "name": "stderr",
     "output_type": "stream",
     "text": [
      "\n"
     ]
    },
    {
     "data": {
      "text/html": [
       "<video alt=\"videos\\random-agent-step-0-to-step-50.mp4\" autoplay\n",
       "                    loop controls style=\"height: 200px;\">\n",
       "                    <source src=\"data:video/mp4;base64,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\" type=\"video/mp4\" />\n",
       "                </video>"
      ],
      "text/plain": [
       "<IPython.core.display.HTML object>"
      ]
     },
     "metadata": {},
     "output_type": "display_data"
    }
   ],
   "source": [
    "env_id = \"highway-fast-v0\"\n",
    "env = make_vec_env(env_id)\n",
    "#instanciate model\n",
    "model = PPO(\"MlpPolicy\", env, verbose=1)\n",
    "\n",
    "#generate video of random model\n",
    "record_video(env_id, model, video_length=50, prefix=\"random-agent\", fps = 5)\n",
    "show_videos(\"videos\", prefix=\"random-agent\")"
   ]
  },
  {
   "cell_type": "code",
   "execution_count": 11,
   "metadata": {
    "id": "TZnWq4g0sK20"
   },
   "outputs": [
    {
     "name": "stdout",
     "output_type": "stream",
     "text": [
      "evaluating Model on 30 episodes ...\n"
     ]
    },
    {
     "name": "stderr",
     "output_type": "stream",
     "text": [
      "100%|██████████████████████████████████████████████████████████████████████████████████| 30/30 [00:07<00:00,  3.79it/s]"
     ]
    },
    {
     "name": "stdout",
     "output_type": "stream",
     "text": [
      "\n",
      "--------------------------------------------------\n",
      "Results :\n",
      "\t- Mean Reward: 6.616 ± 3.68 \n",
      "\t- Mean elapsed Time per episode: 7.767 ± 3.84\n",
      "--------------------------------------------------\n"
     ]
    },
    {
     "name": "stderr",
     "output_type": "stream",
     "text": [
      "\n"
     ]
    },
    {
     "data": {
      "text/plain": [
       "(6.6164837, 7.766666666666667)"
      ]
     },
     "execution_count": 11,
     "metadata": {},
     "output_type": "execute_result"
    }
   ],
   "source": [
    "evaluate(model)"
   ]
  },
  {
   "cell_type": "markdown",
   "metadata": {
    "id": "MRNSVynMqHLl"
   },
   "source": [
    "Let's now explore the environments settings:\n",
    "### Action Space\n",
    "👉 Look at the action space, what actions can the model do ?"
   ]
  },
  {
   "cell_type": "code",
   "execution_count": 12,
   "metadata": {
    "id": "n9-V7160qY7J"
   },
   "outputs": [
    {
     "name": "stdout",
     "output_type": "stream",
     "text": [
      "Action space: Discrete(5)\n"
     ]
    }
   ],
   "source": [
    "######### YOUR CODE HERE #########\n",
    "print(f\"Action space: {env.action_space}\")"
   ]
  },
  {
   "cell_type": "markdown",
   "metadata": {
    "id": "HUHmYIZhu_j-"
   },
   "source": [
    "### Observation Space\n",
    "👉 Look at the [documentation](http://highway-env.farama.org/observations/) for possibles observations of the agents on the Highway\n",
    "\n",
    "👉 Look at the observation spae in our case"
   ]
  },
  {
   "cell_type": "code",
   "execution_count": 13,
   "metadata": {
    "id": "aGYGjDlNvYIJ"
   },
   "outputs": [
    {
     "name": "stdout",
     "output_type": "stream",
     "text": [
      "Observation space: Box(-inf, inf, (5, 5), float32)\n"
     ]
    }
   ],
   "source": [
    "######### YOUR CODE HERE #########\n",
    "print(f\"Observation space: {env.observation_space}\")"
   ]
  },
  {
   "cell_type": "markdown",
   "metadata": {
    "id": "CmBZSNyxmomL"
   },
   "source": [
    "# Training an Agent on the Environment\n",
    "👉 **Now it is your turn**, train your agents\n",
    "Recall:\n",
    "- you must try and compare different RL Algorithms\n",
    "- part of your grade will be the evaluation of your best Agent.\n",
    "\n",
    "🔥Tips\n",
    "- Use tensorboard to monitor your trainings\n",
    "- install it locally to get faster and longer trainings (not mandatory, colab should be ok)"
   ]
  },
  {
   "cell_type": "code",
   "execution_count": 14,
   "metadata": {
    "id": "ildCcCnxtpbB"
   },
   "outputs": [
    {
     "data": {
      "text/html": [
       "\n",
       "      <iframe id=\"tensorboard-frame-10d2dd2a1e30411f\" width=\"100%\" height=\"800\" frameborder=\"0\">\n",
       "      </iframe>\n",
       "      <script>\n",
       "        (function() {\n",
       "          const frame = document.getElementById(\"tensorboard-frame-10d2dd2a1e30411f\");\n",
       "          const url = new URL(\"/\", window.location);\n",
       "          const port = 6006;\n",
       "          if (port) {\n",
       "            url.port = port;\n",
       "          }\n",
       "          frame.src = url;\n",
       "        })();\n",
       "      </script>\n",
       "    "
      ],
      "text/plain": [
       "<IPython.core.display.HTML object>"
      ]
     },
     "metadata": {},
     "output_type": "display_data"
    }
   ],
   "source": [
    "# if you wnat to use tensorboard, highly recommended\n",
    "%tensorboard --logdir \"highway\""
   ]
  },
  {
   "cell_type": "code",
   "execution_count": 17,
   "metadata": {},
   "outputs": [
    {
     "name": "stdout",
     "output_type": "stream",
     "text": [
      "Looking in indexes: https://pypi.org/simple, https://pypi.ngc.nvidia.com\n",
      "Collecting sb3-contrib\n",
      "  Downloading sb3_contrib-2.5.0-py3-none-any.whl.metadata (4.1 kB)\n",
      "Requirement already satisfied: stable_baselines3<3.0,>=2.5.0 in e:\\anaconda_folder\\lib\\site-packages (from sb3-contrib) (2.5.0)\n",
      "Requirement already satisfied: gymnasium<1.1.0,>=0.29.1 in e:\\anaconda_folder\\lib\\site-packages (from stable_baselines3<3.0,>=2.5.0->sb3-contrib) (1.0.0)\n",
      "Requirement already satisfied: numpy<3.0,>=1.20 in e:\\anaconda_folder\\lib\\site-packages (from stable_baselines3<3.0,>=2.5.0->sb3-contrib) (1.26.4)\n",
      "Requirement already satisfied: torch<3.0,>=2.3 in e:\\anaconda_folder\\lib\\site-packages (from stable_baselines3<3.0,>=2.5.0->sb3-contrib) (2.6.0)\n",
      "Requirement already satisfied: cloudpickle in e:\\anaconda_folder\\lib\\site-packages (from stable_baselines3<3.0,>=2.5.0->sb3-contrib) (3.0.0)\n",
      "Requirement already satisfied: pandas in e:\\anaconda_folder\\lib\\site-packages (from stable_baselines3<3.0,>=2.5.0->sb3-contrib) (2.2.2)\n",
      "Requirement already satisfied: matplotlib in e:\\anaconda_folder\\lib\\site-packages (from stable_baselines3<3.0,>=2.5.0->sb3-contrib) (3.9.2)\n",
      "Requirement already satisfied: typing-extensions>=4.3.0 in e:\\anaconda_folder\\lib\\site-packages (from gymnasium<1.1.0,>=0.29.1->stable_baselines3<3.0,>=2.5.0->sb3-contrib) (4.12.2)\n",
      "Requirement already satisfied: farama-notifications>=0.0.1 in e:\\anaconda_folder\\lib\\site-packages (from gymnasium<1.1.0,>=0.29.1->stable_baselines3<3.0,>=2.5.0->sb3-contrib) (0.0.4)\n",
      "Requirement already satisfied: filelock in e:\\anaconda_folder\\lib\\site-packages (from torch<3.0,>=2.3->stable_baselines3<3.0,>=2.5.0->sb3-contrib) (3.13.1)\n",
      "Requirement already satisfied: networkx in e:\\anaconda_folder\\lib\\site-packages (from torch<3.0,>=2.3->stable_baselines3<3.0,>=2.5.0->sb3-contrib) (3.3)\n",
      "Requirement already satisfied: jinja2 in e:\\anaconda_folder\\lib\\site-packages (from torch<3.0,>=2.3->stable_baselines3<3.0,>=2.5.0->sb3-contrib) (3.1.5)\n",
      "Requirement already satisfied: fsspec in e:\\anaconda_folder\\lib\\site-packages (from torch<3.0,>=2.3->stable_baselines3<3.0,>=2.5.0->sb3-contrib) (2025.2.0)\n",
      "Requirement already satisfied: setuptools in e:\\anaconda_folder\\lib\\site-packages (from torch<3.0,>=2.3->stable_baselines3<3.0,>=2.5.0->sb3-contrib) (75.1.0)\n",
      "Requirement already satisfied: sympy==1.13.1 in e:\\anaconda_folder\\lib\\site-packages (from torch<3.0,>=2.3->stable_baselines3<3.0,>=2.5.0->sb3-contrib) (1.13.1)\n",
      "Requirement already satisfied: mpmath<1.4,>=1.1.0 in e:\\anaconda_folder\\lib\\site-packages (from sympy==1.13.1->torch<3.0,>=2.3->stable_baselines3<3.0,>=2.5.0->sb3-contrib) (1.3.0)\n",
      "Requirement already satisfied: contourpy>=1.0.1 in e:\\anaconda_folder\\lib\\site-packages (from matplotlib->stable_baselines3<3.0,>=2.5.0->sb3-contrib) (1.2.0)\n",
      "Requirement already satisfied: cycler>=0.10 in e:\\anaconda_folder\\lib\\site-packages (from matplotlib->stable_baselines3<3.0,>=2.5.0->sb3-contrib) (0.11.0)\n",
      "Requirement already satisfied: fonttools>=4.22.0 in e:\\anaconda_folder\\lib\\site-packages (from matplotlib->stable_baselines3<3.0,>=2.5.0->sb3-contrib) (4.51.0)\n",
      "Requirement already satisfied: kiwisolver>=1.3.1 in e:\\anaconda_folder\\lib\\site-packages (from matplotlib->stable_baselines3<3.0,>=2.5.0->sb3-contrib) (1.4.4)\n",
      "Requirement already satisfied: packaging>=20.0 in e:\\anaconda_folder\\lib\\site-packages (from matplotlib->stable_baselines3<3.0,>=2.5.0->sb3-contrib) (24.2)\n",
      "Requirement already satisfied: pillow>=8 in e:\\anaconda_folder\\lib\\site-packages (from matplotlib->stable_baselines3<3.0,>=2.5.0->sb3-contrib) (9.5.0)\n",
      "Requirement already satisfied: pyparsing>=2.3.1 in e:\\anaconda_folder\\lib\\site-packages (from matplotlib->stable_baselines3<3.0,>=2.5.0->sb3-contrib) (3.1.2)\n",
      "Requirement already satisfied: python-dateutil>=2.7 in e:\\anaconda_folder\\lib\\site-packages (from matplotlib->stable_baselines3<3.0,>=2.5.0->sb3-contrib) (2.9.0.post0)\n",
      "Requirement already satisfied: pytz>=2020.1 in e:\\anaconda_folder\\lib\\site-packages (from pandas->stable_baselines3<3.0,>=2.5.0->sb3-contrib) (2025.1)\n",
      "Requirement already satisfied: tzdata>=2022.7 in e:\\anaconda_folder\\lib\\site-packages (from pandas->stable_baselines3<3.0,>=2.5.0->sb3-contrib) (2025.1)\n",
      "Requirement already satisfied: six>=1.5 in e:\\anaconda_folder\\lib\\site-packages (from python-dateutil>=2.7->matplotlib->stable_baselines3<3.0,>=2.5.0->sb3-contrib) (1.17.0)\n",
      "Requirement already satisfied: MarkupSafe>=2.0 in e:\\anaconda_folder\\lib\\site-packages (from jinja2->torch<3.0,>=2.3->stable_baselines3<3.0,>=2.5.0->sb3-contrib) (3.0.2)\n",
      "Downloading sb3_contrib-2.5.0-py3-none-any.whl (92 kB)\n",
      "Installing collected packages: sb3-contrib\n",
      "Successfully installed sb3-contrib-2.5.0\n"
     ]
    }
   ],
   "source": [
    "# Install sb3-contrib pour TRPO, QRDQN et ARS\n",
    "!pip install sb3-contrib\n",
    "\n",
    "# Importation des bibliothèques nécessaires\n",
    "import os\n",
    "import time\n",
    "import torch\n",
    "from stable_baselines3 import PPO, DQN, A2C\n",
    "from sb3_contrib import TRPO, QRDQN, ARS\n",
    "from stable_baselines3.common.callbacks import EvalCallback, BaseCallback\n",
    "\n",
    "\n",
    "# Créer un dossier pour les logs TensorBoard\n",
    "log_dir = \"./logs/\"\n",
    "\n",
    "# Définir l'environnement\n",
    "env_id = \"highway-fast-v0\"\n",
    "env = make_vec_env(env_id, n_envs=4)  # Utiliser 4 environnements pour un entraînement plus rapide\n",
    "\n",
    "        \n",
    "# Fonction d'entraînement avec tqdm\n",
    "def train_model(model_class, env, model_name, total_timesteps, **kwargs):\n",
    "    model_log_dir = os.path.join(log_dir, model_name)\n",
    "    os.makedirs(model_log_dir, exist_ok=True)\n",
    "\n",
    "    kwargs.setdefault('tensorboard_log', model_log_dir)\n",
    "    kwargs.setdefault('policy', 'MlpPolicy')\n",
    "\n",
    "    model = model_class(env=env, verbose=1,**kwargs)\n",
    "\n",
    "    eval_callback = EvalCallback(\n",
    "        env,\n",
    "        best_model_save_path=os.path.join(model_log_dir, \"best_model\"),\n",
    "        log_path=os.path.join(model_log_dir, \"eval\"),\n",
    "        eval_freq=5000,\n",
    "        deterministic=True,\n",
    "        render=False,\n",
    "    )\n",
    "\n",
    "    # Lancer l'entraînement avec le callback tqdm\n",
    "    model.learn(total_timesteps=total_timesteps, callback=eval_callback)\n",
    "\n",
    "    model.save(os.path.join(model_log_dir, f\"{model_name}_final\"))\n",
    "\n",
    "    return model\n",
    "\n"
   ]
  },
  {
   "cell_type": "code",
   "execution_count": 18,
   "metadata": {
    "id": "kZUAObuMeUEV"
   },
   "outputs": [
    {
     "name": "stdout",
     "output_type": "stream",
     "text": [
      "Using cpu device\n",
      "Logging to ./logs/dqn_highway\\DQN_1\n",
      "----------------------------------\n",
      "| rollout/            |          |\n",
      "|    ep_len_mean      | 7.75     |\n",
      "|    ep_rew_mean      | 6.09     |\n",
      "|    exploration_rate | 0.05     |\n",
      "| time/               |          |\n",
      "|    episodes         | 4        |\n",
      "|    fps              | 25       |\n",
      "|    time_elapsed     | 1        |\n",
      "|    total_timesteps  | 48       |\n",
      "----------------------------------\n",
      "Using cpu device\n",
      "Logging to ./logs/ppo_highway\\PPO_1\n"
     ]
    },
    {
     "ename": "KeyboardInterrupt",
     "evalue": "",
     "output_type": "error",
     "traceback": [
      "\u001b[1;31m---------------------------------------------------------------------------\u001b[0m",
      "\u001b[1;31mKeyboardInterrupt\u001b[0m                         Traceback (most recent call last)",
      "Cell \u001b[1;32mIn[18], line 42\u001b[0m\n\u001b[0;32m     16\u001b[0m dqn_model \u001b[38;5;241m=\u001b[39m train_model(\n\u001b[0;32m     17\u001b[0m     model_class\u001b[38;5;241m=\u001b[39mDQN,\n\u001b[0;32m     18\u001b[0m     env\u001b[38;5;241m=\u001b[39menv,\n\u001b[1;32m   (...)\u001b[0m\n\u001b[0;32m     30\u001b[0m     device\u001b[38;5;241m=\u001b[39mdevice\n\u001b[0;32m     31\u001b[0m )\n\u001b[0;32m     34\u001b[0m \u001b[38;5;66;03m# PPO (Proximal Policy Optimization):\u001b[39;00m\n\u001b[0;32m     35\u001b[0m \u001b[38;5;66;03m# - learning_rate=3e-4 : Un learning rate modéré pour garantir une bonne stabilité pendant l'apprentissage.\u001b[39;00m\n\u001b[0;32m     36\u001b[0m \u001b[38;5;66;03m# - n_steps=2048 : Le nombre d'étapes de collecte de données par itération d'entraînement, assez grand pour un bon échantillonnage, mais sans surcharger la mémoire.\u001b[39;00m\n\u001b[1;32m   (...)\u001b[0m\n\u001b[0;32m     40\u001b[0m \u001b[38;5;66;03m# - clip_range=0.2 : Le clip de la politique pour éviter les mises à jour trop agressives. Cela permet de conserver une bonne stabilité.\u001b[39;00m\n\u001b[0;32m     41\u001b[0m \u001b[38;5;66;03m# - vf_coef=0.5 : La pondération de la fonction de valeur dans la fonction de perte, équilibrant la politique et la valeur.\u001b[39;00m\n\u001b[1;32m---> 42\u001b[0m ppo_model \u001b[38;5;241m=\u001b[39m train_model(\n\u001b[0;32m     43\u001b[0m     model_class\u001b[38;5;241m=\u001b[39mPPO,\n\u001b[0;32m     44\u001b[0m     env\u001b[38;5;241m=\u001b[39menv,\n\u001b[0;32m     45\u001b[0m     model_name\u001b[38;5;241m=\u001b[39m\u001b[38;5;124m\"\u001b[39m\u001b[38;5;124mppo_highway\u001b[39m\u001b[38;5;124m\"\u001b[39m,\n\u001b[0;32m     46\u001b[0m     total_timesteps\u001b[38;5;241m=\u001b[39mtotal_timesteps,\n\u001b[0;32m     47\u001b[0m     policy_kwargs\u001b[38;5;241m=\u001b[39m\u001b[38;5;28mdict\u001b[39m(net_arch\u001b[38;5;241m=\u001b[39m[\u001b[38;5;241m256\u001b[39m, \u001b[38;5;241m256\u001b[39m]),\n\u001b[0;32m     48\u001b[0m     learning_rate\u001b[38;5;241m=\u001b[39m\u001b[38;5;241m3e-4\u001b[39m,\n\u001b[0;32m     49\u001b[0m     n_steps\u001b[38;5;241m=\u001b[39m\u001b[38;5;241m2048\u001b[39m,\n\u001b[0;32m     50\u001b[0m     batch_size\u001b[38;5;241m=\u001b[39m\u001b[38;5;241m64\u001b[39m,\n\u001b[0;32m     51\u001b[0m     n_epochs\u001b[38;5;241m=\u001b[39m\u001b[38;5;241m10\u001b[39m,\n\u001b[0;32m     52\u001b[0m     gamma\u001b[38;5;241m=\u001b[39m\u001b[38;5;241m0.99\u001b[39m,\n\u001b[0;32m     53\u001b[0m     gae_lambda\u001b[38;5;241m=\u001b[39m\u001b[38;5;241m0.95\u001b[39m,\n\u001b[0;32m     54\u001b[0m     clip_range\u001b[38;5;241m=\u001b[39m\u001b[38;5;241m0.2\u001b[39m,\n\u001b[0;32m     55\u001b[0m     ent_coef\u001b[38;5;241m=\u001b[39m\u001b[38;5;241m0.0\u001b[39m,\n\u001b[0;32m     56\u001b[0m     vf_coef\u001b[38;5;241m=\u001b[39m\u001b[38;5;241m0.5\u001b[39m,\n\u001b[0;32m     57\u001b[0m     max_grad_norm\u001b[38;5;241m=\u001b[39m\u001b[38;5;241m0.5\u001b[39m,\n\u001b[0;32m     58\u001b[0m     device\u001b[38;5;241m=\u001b[39mdevice\n\u001b[0;32m     59\u001b[0m )\n\u001b[0;32m     62\u001b[0m \u001b[38;5;66;03m# A2C (Advantage Actor-Critic):\u001b[39;00m\n\u001b[0;32m     63\u001b[0m \u001b[38;5;66;03m# - learning_rate=3e-4 : Un taux d'apprentissage modéré pour un apprentissage stable tout en évitant les oscillations.\u001b[39;00m\n\u001b[0;32m     64\u001b[0m \u001b[38;5;66;03m# - n_steps=5 : Le nombre d'étapes par itération. Utiliser une petite valeur pour réduire la mémoire et garder un calcul rapide, tout en restant précis.\u001b[39;00m\n\u001b[0;32m     65\u001b[0m \u001b[38;5;66;03m# - gamma=0.99 : Un facteur de discount classique, assurant une prise en compte des récompenses futures sur le long terme.\u001b[39;00m\n\u001b[0;32m     66\u001b[0m \u001b[38;5;66;03m# - vf_coef=0.5 : Un poids équilibré pour la fonction de valeur dans la perte, permettant de maintenir l'équilibre entre la politique et la fonction de valeur.\u001b[39;00m\n\u001b[0;32m     67\u001b[0m \u001b[38;5;66;03m# - max_grad_norm=0.5 : Une normalisation des gradients pour éviter les gradients explosifs et assurer un apprentissage plus stable.\u001b[39;00m\n\u001b[0;32m     68\u001b[0m a2c_model \u001b[38;5;241m=\u001b[39m train_model(\n\u001b[0;32m     69\u001b[0m     model_class\u001b[38;5;241m=\u001b[39mA2C,\n\u001b[0;32m     70\u001b[0m     env\u001b[38;5;241m=\u001b[39menv,\n\u001b[1;32m   (...)\u001b[0m\n\u001b[0;32m     81\u001b[0m     device\u001b[38;5;241m=\u001b[39mdevice\n\u001b[0;32m     82\u001b[0m )\n",
      "Cell \u001b[1;32mIn[17], line 41\u001b[0m, in \u001b[0;36mtrain_model\u001b[1;34m(model_class, env, model_name, total_timesteps, **kwargs)\u001b[0m\n\u001b[0;32m     31\u001b[0m eval_callback \u001b[38;5;241m=\u001b[39m EvalCallback(\n\u001b[0;32m     32\u001b[0m     env,\n\u001b[0;32m     33\u001b[0m     best_model_save_path\u001b[38;5;241m=\u001b[39mos\u001b[38;5;241m.\u001b[39mpath\u001b[38;5;241m.\u001b[39mjoin(model_log_dir, \u001b[38;5;124m\"\u001b[39m\u001b[38;5;124mbest_model\u001b[39m\u001b[38;5;124m\"\u001b[39m),\n\u001b[1;32m   (...)\u001b[0m\n\u001b[0;32m     37\u001b[0m     render\u001b[38;5;241m=\u001b[39m\u001b[38;5;28;01mFalse\u001b[39;00m,\n\u001b[0;32m     38\u001b[0m )\n\u001b[0;32m     40\u001b[0m \u001b[38;5;66;03m# Lancer l'entraînement avec le callback tqdm\u001b[39;00m\n\u001b[1;32m---> 41\u001b[0m model\u001b[38;5;241m.\u001b[39mlearn(total_timesteps\u001b[38;5;241m=\u001b[39mtotal_timesteps, callback\u001b[38;5;241m=\u001b[39meval_callback)\n\u001b[0;32m     43\u001b[0m model\u001b[38;5;241m.\u001b[39msave(os\u001b[38;5;241m.\u001b[39mpath\u001b[38;5;241m.\u001b[39mjoin(model_log_dir, \u001b[38;5;124mf\u001b[39m\u001b[38;5;124m\"\u001b[39m\u001b[38;5;132;01m{\u001b[39;00mmodel_name\u001b[38;5;132;01m}\u001b[39;00m\u001b[38;5;124m_final\u001b[39m\u001b[38;5;124m\"\u001b[39m))\n\u001b[0;32m     45\u001b[0m \u001b[38;5;28;01mreturn\u001b[39;00m model\n",
      "File \u001b[1;32mE:\\Anaconda_folder\\Lib\\site-packages\\stable_baselines3\\ppo\\ppo.py:311\u001b[0m, in \u001b[0;36mPPO.learn\u001b[1;34m(self, total_timesteps, callback, log_interval, tb_log_name, reset_num_timesteps, progress_bar)\u001b[0m\n\u001b[0;32m    302\u001b[0m \u001b[38;5;28;01mdef\u001b[39;00m\u001b[38;5;250m \u001b[39m\u001b[38;5;21mlearn\u001b[39m(\n\u001b[0;32m    303\u001b[0m     \u001b[38;5;28mself\u001b[39m: SelfPPO,\n\u001b[0;32m    304\u001b[0m     total_timesteps: \u001b[38;5;28mint\u001b[39m,\n\u001b[1;32m   (...)\u001b[0m\n\u001b[0;32m    309\u001b[0m     progress_bar: \u001b[38;5;28mbool\u001b[39m \u001b[38;5;241m=\u001b[39m \u001b[38;5;28;01mFalse\u001b[39;00m,\n\u001b[0;32m    310\u001b[0m ) \u001b[38;5;241m-\u001b[39m\u001b[38;5;241m>\u001b[39m SelfPPO:\n\u001b[1;32m--> 311\u001b[0m     \u001b[38;5;28;01mreturn\u001b[39;00m \u001b[38;5;28msuper\u001b[39m()\u001b[38;5;241m.\u001b[39mlearn(\n\u001b[0;32m    312\u001b[0m         total_timesteps\u001b[38;5;241m=\u001b[39mtotal_timesteps,\n\u001b[0;32m    313\u001b[0m         callback\u001b[38;5;241m=\u001b[39mcallback,\n\u001b[0;32m    314\u001b[0m         log_interval\u001b[38;5;241m=\u001b[39mlog_interval,\n\u001b[0;32m    315\u001b[0m         tb_log_name\u001b[38;5;241m=\u001b[39mtb_log_name,\n\u001b[0;32m    316\u001b[0m         reset_num_timesteps\u001b[38;5;241m=\u001b[39mreset_num_timesteps,\n\u001b[0;32m    317\u001b[0m         progress_bar\u001b[38;5;241m=\u001b[39mprogress_bar,\n\u001b[0;32m    318\u001b[0m     )\n",
      "File \u001b[1;32mE:\\Anaconda_folder\\Lib\\site-packages\\stable_baselines3\\common\\on_policy_algorithm.py:323\u001b[0m, in \u001b[0;36mOnPolicyAlgorithm.learn\u001b[1;34m(self, total_timesteps, callback, log_interval, tb_log_name, reset_num_timesteps, progress_bar)\u001b[0m\n\u001b[0;32m    320\u001b[0m \u001b[38;5;28;01massert\u001b[39;00m \u001b[38;5;28mself\u001b[39m\u001b[38;5;241m.\u001b[39menv \u001b[38;5;129;01mis\u001b[39;00m \u001b[38;5;129;01mnot\u001b[39;00m \u001b[38;5;28;01mNone\u001b[39;00m\n\u001b[0;32m    322\u001b[0m \u001b[38;5;28;01mwhile\u001b[39;00m \u001b[38;5;28mself\u001b[39m\u001b[38;5;241m.\u001b[39mnum_timesteps \u001b[38;5;241m<\u001b[39m total_timesteps:\n\u001b[1;32m--> 323\u001b[0m     continue_training \u001b[38;5;241m=\u001b[39m \u001b[38;5;28mself\u001b[39m\u001b[38;5;241m.\u001b[39mcollect_rollouts(\u001b[38;5;28mself\u001b[39m\u001b[38;5;241m.\u001b[39menv, callback, \u001b[38;5;28mself\u001b[39m\u001b[38;5;241m.\u001b[39mrollout_buffer, n_rollout_steps\u001b[38;5;241m=\u001b[39m\u001b[38;5;28mself\u001b[39m\u001b[38;5;241m.\u001b[39mn_steps)\n\u001b[0;32m    325\u001b[0m     \u001b[38;5;28;01mif\u001b[39;00m \u001b[38;5;129;01mnot\u001b[39;00m continue_training:\n\u001b[0;32m    326\u001b[0m         \u001b[38;5;28;01mbreak\u001b[39;00m\n",
      "File \u001b[1;32mE:\\Anaconda_folder\\Lib\\site-packages\\stable_baselines3\\common\\on_policy_algorithm.py:218\u001b[0m, in \u001b[0;36mOnPolicyAlgorithm.collect_rollouts\u001b[1;34m(self, env, callback, rollout_buffer, n_rollout_steps)\u001b[0m\n\u001b[0;32m    213\u001b[0m     \u001b[38;5;28;01melse\u001b[39;00m:\n\u001b[0;32m    214\u001b[0m         \u001b[38;5;66;03m# Otherwise, clip the actions to avoid out of bound error\u001b[39;00m\n\u001b[0;32m    215\u001b[0m         \u001b[38;5;66;03m# as we are sampling from an unbounded Gaussian distribution\u001b[39;00m\n\u001b[0;32m    216\u001b[0m         clipped_actions \u001b[38;5;241m=\u001b[39m np\u001b[38;5;241m.\u001b[39mclip(actions, \u001b[38;5;28mself\u001b[39m\u001b[38;5;241m.\u001b[39maction_space\u001b[38;5;241m.\u001b[39mlow, \u001b[38;5;28mself\u001b[39m\u001b[38;5;241m.\u001b[39maction_space\u001b[38;5;241m.\u001b[39mhigh)\n\u001b[1;32m--> 218\u001b[0m new_obs, rewards, dones, infos \u001b[38;5;241m=\u001b[39m env\u001b[38;5;241m.\u001b[39mstep(clipped_actions)\n\u001b[0;32m    220\u001b[0m \u001b[38;5;28mself\u001b[39m\u001b[38;5;241m.\u001b[39mnum_timesteps \u001b[38;5;241m+\u001b[39m\u001b[38;5;241m=\u001b[39m env\u001b[38;5;241m.\u001b[39mnum_envs\n\u001b[0;32m    222\u001b[0m \u001b[38;5;66;03m# Give access to local variables\u001b[39;00m\n",
      "File \u001b[1;32mE:\\Anaconda_folder\\Lib\\site-packages\\stable_baselines3\\common\\vec_env\\base_vec_env.py:207\u001b[0m, in \u001b[0;36mVecEnv.step\u001b[1;34m(self, actions)\u001b[0m\n\u001b[0;32m    200\u001b[0m \u001b[38;5;250m\u001b[39m\u001b[38;5;124;03m\"\"\"\u001b[39;00m\n\u001b[0;32m    201\u001b[0m \u001b[38;5;124;03mStep the environments with the given action\u001b[39;00m\n\u001b[0;32m    202\u001b[0m \n\u001b[0;32m    203\u001b[0m \u001b[38;5;124;03m:param actions: the action\u001b[39;00m\n\u001b[0;32m    204\u001b[0m \u001b[38;5;124;03m:return: observation, reward, done, information\u001b[39;00m\n\u001b[0;32m    205\u001b[0m \u001b[38;5;124;03m\"\"\"\u001b[39;00m\n\u001b[0;32m    206\u001b[0m \u001b[38;5;28mself\u001b[39m\u001b[38;5;241m.\u001b[39mstep_async(actions)\n\u001b[1;32m--> 207\u001b[0m \u001b[38;5;28;01mreturn\u001b[39;00m \u001b[38;5;28mself\u001b[39m\u001b[38;5;241m.\u001b[39mstep_wait()\n",
      "File \u001b[1;32mE:\\Anaconda_folder\\Lib\\site-packages\\stable_baselines3\\common\\vec_env\\dummy_vec_env.py:59\u001b[0m, in \u001b[0;36mDummyVecEnv.step_wait\u001b[1;34m(self)\u001b[0m\n\u001b[0;32m     56\u001b[0m \u001b[38;5;28;01mdef\u001b[39;00m\u001b[38;5;250m \u001b[39m\u001b[38;5;21mstep_wait\u001b[39m(\u001b[38;5;28mself\u001b[39m) \u001b[38;5;241m-\u001b[39m\u001b[38;5;241m>\u001b[39m VecEnvStepReturn:\n\u001b[0;32m     57\u001b[0m     \u001b[38;5;66;03m# Avoid circular imports\u001b[39;00m\n\u001b[0;32m     58\u001b[0m     \u001b[38;5;28;01mfor\u001b[39;00m env_idx \u001b[38;5;129;01min\u001b[39;00m \u001b[38;5;28mrange\u001b[39m(\u001b[38;5;28mself\u001b[39m\u001b[38;5;241m.\u001b[39mnum_envs):\n\u001b[1;32m---> 59\u001b[0m         obs, \u001b[38;5;28mself\u001b[39m\u001b[38;5;241m.\u001b[39mbuf_rews[env_idx], terminated, truncated, \u001b[38;5;28mself\u001b[39m\u001b[38;5;241m.\u001b[39mbuf_infos[env_idx] \u001b[38;5;241m=\u001b[39m \u001b[38;5;28mself\u001b[39m\u001b[38;5;241m.\u001b[39menvs[env_idx]\u001b[38;5;241m.\u001b[39mstep(  \u001b[38;5;66;03m# type: ignore[assignment]\u001b[39;00m\n\u001b[0;32m     60\u001b[0m             \u001b[38;5;28mself\u001b[39m\u001b[38;5;241m.\u001b[39mactions[env_idx]\n\u001b[0;32m     61\u001b[0m         )\n\u001b[0;32m     62\u001b[0m         \u001b[38;5;66;03m# convert to SB3 VecEnv api\u001b[39;00m\n\u001b[0;32m     63\u001b[0m         \u001b[38;5;28mself\u001b[39m\u001b[38;5;241m.\u001b[39mbuf_dones[env_idx] \u001b[38;5;241m=\u001b[39m terminated \u001b[38;5;129;01mor\u001b[39;00m truncated\n",
      "File \u001b[1;32mE:\\Anaconda_folder\\Lib\\site-packages\\stable_baselines3\\common\\monitor.py:94\u001b[0m, in \u001b[0;36mMonitor.step\u001b[1;34m(self, action)\u001b[0m\n\u001b[0;32m     92\u001b[0m \u001b[38;5;28;01mif\u001b[39;00m \u001b[38;5;28mself\u001b[39m\u001b[38;5;241m.\u001b[39mneeds_reset:\n\u001b[0;32m     93\u001b[0m     \u001b[38;5;28;01mraise\u001b[39;00m \u001b[38;5;167;01mRuntimeError\u001b[39;00m(\u001b[38;5;124m\"\u001b[39m\u001b[38;5;124mTried to step environment that needs reset\u001b[39m\u001b[38;5;124m\"\u001b[39m)\n\u001b[1;32m---> 94\u001b[0m observation, reward, terminated, truncated, info \u001b[38;5;241m=\u001b[39m \u001b[38;5;28mself\u001b[39m\u001b[38;5;241m.\u001b[39menv\u001b[38;5;241m.\u001b[39mstep(action)\n\u001b[0;32m     95\u001b[0m \u001b[38;5;28mself\u001b[39m\u001b[38;5;241m.\u001b[39mrewards\u001b[38;5;241m.\u001b[39mappend(\u001b[38;5;28mfloat\u001b[39m(reward))\n\u001b[0;32m     96\u001b[0m \u001b[38;5;28;01mif\u001b[39;00m terminated \u001b[38;5;129;01mor\u001b[39;00m truncated:\n",
      "File \u001b[1;32mE:\\Anaconda_folder\\Lib\\site-packages\\gymnasium\\wrappers\\common.py:393\u001b[0m, in \u001b[0;36mOrderEnforcing.step\u001b[1;34m(self, action)\u001b[0m\n\u001b[0;32m    391\u001b[0m \u001b[38;5;28;01mif\u001b[39;00m \u001b[38;5;129;01mnot\u001b[39;00m \u001b[38;5;28mself\u001b[39m\u001b[38;5;241m.\u001b[39m_has_reset:\n\u001b[0;32m    392\u001b[0m     \u001b[38;5;28;01mraise\u001b[39;00m ResetNeeded(\u001b[38;5;124m\"\u001b[39m\u001b[38;5;124mCannot call env.step() before calling env.reset()\u001b[39m\u001b[38;5;124m\"\u001b[39m)\n\u001b[1;32m--> 393\u001b[0m \u001b[38;5;28;01mreturn\u001b[39;00m \u001b[38;5;28msuper\u001b[39m()\u001b[38;5;241m.\u001b[39mstep(action)\n",
      "File \u001b[1;32mE:\\Anaconda_folder\\Lib\\site-packages\\gymnasium\\core.py:322\u001b[0m, in \u001b[0;36mWrapper.step\u001b[1;34m(self, action)\u001b[0m\n\u001b[0;32m    318\u001b[0m \u001b[38;5;28;01mdef\u001b[39;00m\u001b[38;5;250m \u001b[39m\u001b[38;5;21mstep\u001b[39m(\n\u001b[0;32m    319\u001b[0m     \u001b[38;5;28mself\u001b[39m, action: WrapperActType\n\u001b[0;32m    320\u001b[0m ) \u001b[38;5;241m-\u001b[39m\u001b[38;5;241m>\u001b[39m \u001b[38;5;28mtuple\u001b[39m[WrapperObsType, SupportsFloat, \u001b[38;5;28mbool\u001b[39m, \u001b[38;5;28mbool\u001b[39m, \u001b[38;5;28mdict\u001b[39m[\u001b[38;5;28mstr\u001b[39m, Any]]:\n\u001b[0;32m    321\u001b[0m \u001b[38;5;250m    \u001b[39m\u001b[38;5;124;03m\"\"\"Uses the :meth:`step` of the :attr:`env` that can be overwritten to change the returned data.\"\"\"\u001b[39;00m\n\u001b[1;32m--> 322\u001b[0m     \u001b[38;5;28;01mreturn\u001b[39;00m \u001b[38;5;28mself\u001b[39m\u001b[38;5;241m.\u001b[39menv\u001b[38;5;241m.\u001b[39mstep(action)\n",
      "File \u001b[1;32mE:\\Anaconda_folder\\Lib\\site-packages\\gymnasium\\wrappers\\common.py:285\u001b[0m, in \u001b[0;36mPassiveEnvChecker.step\u001b[1;34m(self, action)\u001b[0m\n\u001b[0;32m    283\u001b[0m     \u001b[38;5;28;01mreturn\u001b[39;00m env_step_passive_checker(\u001b[38;5;28mself\u001b[39m\u001b[38;5;241m.\u001b[39menv, action)\n\u001b[0;32m    284\u001b[0m \u001b[38;5;28;01melse\u001b[39;00m:\n\u001b[1;32m--> 285\u001b[0m     \u001b[38;5;28;01mreturn\u001b[39;00m \u001b[38;5;28mself\u001b[39m\u001b[38;5;241m.\u001b[39menv\u001b[38;5;241m.\u001b[39mstep(action)\n",
      "File \u001b[1;32mE:\\Anaconda_folder\\Lib\\site-packages\\highway_env\\envs\\common\\abstract.py:240\u001b[0m, in \u001b[0;36mAbstractEnv.step\u001b[1;34m(self, action)\u001b[0m\n\u001b[0;32m    235\u001b[0m     \u001b[38;5;28;01mraise\u001b[39;00m \u001b[38;5;167;01mNotImplementedError\u001b[39;00m(\n\u001b[0;32m    236\u001b[0m         \u001b[38;5;124m\"\u001b[39m\u001b[38;5;124mThe road and vehicle must be initialized in the environment implementation\u001b[39m\u001b[38;5;124m\"\u001b[39m\n\u001b[0;32m    237\u001b[0m     )\n\u001b[0;32m    239\u001b[0m \u001b[38;5;28mself\u001b[39m\u001b[38;5;241m.\u001b[39mtime \u001b[38;5;241m+\u001b[39m\u001b[38;5;241m=\u001b[39m \u001b[38;5;241m1\u001b[39m \u001b[38;5;241m/\u001b[39m \u001b[38;5;28mself\u001b[39m\u001b[38;5;241m.\u001b[39mconfig[\u001b[38;5;124m\"\u001b[39m\u001b[38;5;124mpolicy_frequency\u001b[39m\u001b[38;5;124m\"\u001b[39m]\n\u001b[1;32m--> 240\u001b[0m \u001b[38;5;28mself\u001b[39m\u001b[38;5;241m.\u001b[39m_simulate(action)\n\u001b[0;32m    242\u001b[0m obs \u001b[38;5;241m=\u001b[39m \u001b[38;5;28mself\u001b[39m\u001b[38;5;241m.\u001b[39mobservation_type\u001b[38;5;241m.\u001b[39mobserve()\n\u001b[0;32m    243\u001b[0m reward \u001b[38;5;241m=\u001b[39m \u001b[38;5;28mself\u001b[39m\u001b[38;5;241m.\u001b[39m_reward(action)\n",
      "File \u001b[1;32mE:\\Anaconda_folder\\Lib\\site-packages\\highway_env\\envs\\common\\abstract.py:271\u001b[0m, in \u001b[0;36mAbstractEnv._simulate\u001b[1;34m(self, action)\u001b[0m\n\u001b[0;32m    259\u001b[0m \u001b[38;5;28;01mif\u001b[39;00m (\n\u001b[0;32m    260\u001b[0m     action \u001b[38;5;129;01mis\u001b[39;00m \u001b[38;5;129;01mnot\u001b[39;00m \u001b[38;5;28;01mNone\u001b[39;00m\n\u001b[0;32m    261\u001b[0m     \u001b[38;5;129;01mand\u001b[39;00m \u001b[38;5;129;01mnot\u001b[39;00m \u001b[38;5;28mself\u001b[39m\u001b[38;5;241m.\u001b[39mconfig[\u001b[38;5;124m\"\u001b[39m\u001b[38;5;124mmanual_control\u001b[39m\u001b[38;5;124m\"\u001b[39m]\n\u001b[1;32m   (...)\u001b[0m\n\u001b[0;32m    267\u001b[0m     \u001b[38;5;241m==\u001b[39m \u001b[38;5;241m0\u001b[39m\n\u001b[0;32m    268\u001b[0m ):\n\u001b[0;32m    269\u001b[0m     \u001b[38;5;28mself\u001b[39m\u001b[38;5;241m.\u001b[39maction_type\u001b[38;5;241m.\u001b[39mact(action)\n\u001b[1;32m--> 271\u001b[0m \u001b[38;5;28mself\u001b[39m\u001b[38;5;241m.\u001b[39mroad\u001b[38;5;241m.\u001b[39mact()\n\u001b[0;32m    272\u001b[0m \u001b[38;5;28mself\u001b[39m\u001b[38;5;241m.\u001b[39mroad\u001b[38;5;241m.\u001b[39mstep(\u001b[38;5;241m1\u001b[39m \u001b[38;5;241m/\u001b[39m \u001b[38;5;28mself\u001b[39m\u001b[38;5;241m.\u001b[39mconfig[\u001b[38;5;124m\"\u001b[39m\u001b[38;5;124msimulation_frequency\u001b[39m\u001b[38;5;124m\"\u001b[39m])\n\u001b[0;32m    273\u001b[0m \u001b[38;5;28mself\u001b[39m\u001b[38;5;241m.\u001b[39msteps \u001b[38;5;241m+\u001b[39m\u001b[38;5;241m=\u001b[39m \u001b[38;5;241m1\u001b[39m\n",
      "File \u001b[1;32mE:\\Anaconda_folder\\Lib\\site-packages\\highway_env\\road\\road.py:464\u001b[0m, in \u001b[0;36mRoad.act\u001b[1;34m(self)\u001b[0m\n\u001b[0;32m    462\u001b[0m \u001b[38;5;250m\u001b[39m\u001b[38;5;124;03m\"\"\"Decide the actions of each entity on the road.\"\"\"\u001b[39;00m\n\u001b[0;32m    463\u001b[0m \u001b[38;5;28;01mfor\u001b[39;00m vehicle \u001b[38;5;129;01min\u001b[39;00m \u001b[38;5;28mself\u001b[39m\u001b[38;5;241m.\u001b[39mvehicles:\n\u001b[1;32m--> 464\u001b[0m     vehicle\u001b[38;5;241m.\u001b[39mact()\n",
      "File \u001b[1;32mE:\\Anaconda_folder\\Lib\\site-packages\\highway_env\\vehicle\\behavior.py:108\u001b[0m, in \u001b[0;36mIDMVehicle.act\u001b[1;34m(self, action)\u001b[0m\n\u001b[0;32m    106\u001b[0m \u001b[38;5;28mself\u001b[39m\u001b[38;5;241m.\u001b[39mfollow_road()\n\u001b[0;32m    107\u001b[0m \u001b[38;5;28;01mif\u001b[39;00m \u001b[38;5;28mself\u001b[39m\u001b[38;5;241m.\u001b[39menable_lane_change:\n\u001b[1;32m--> 108\u001b[0m     \u001b[38;5;28mself\u001b[39m\u001b[38;5;241m.\u001b[39mchange_lane_policy()\n\u001b[0;32m    109\u001b[0m action[\u001b[38;5;124m\"\u001b[39m\u001b[38;5;124msteering\u001b[39m\u001b[38;5;124m\"\u001b[39m] \u001b[38;5;241m=\u001b[39m \u001b[38;5;28mself\u001b[39m\u001b[38;5;241m.\u001b[39msteering_control(\u001b[38;5;28mself\u001b[39m\u001b[38;5;241m.\u001b[39mtarget_lane_index)\n\u001b[0;32m    110\u001b[0m action[\u001b[38;5;124m\"\u001b[39m\u001b[38;5;124msteering\u001b[39m\u001b[38;5;124m\"\u001b[39m] \u001b[38;5;241m=\u001b[39m np\u001b[38;5;241m.\u001b[39mclip(\n\u001b[0;32m    111\u001b[0m     action[\u001b[38;5;124m\"\u001b[39m\u001b[38;5;124msteering\u001b[39m\u001b[38;5;124m\"\u001b[39m], \u001b[38;5;241m-\u001b[39m\u001b[38;5;28mself\u001b[39m\u001b[38;5;241m.\u001b[39mMAX_STEERING_ANGLE, \u001b[38;5;28mself\u001b[39m\u001b[38;5;241m.\u001b[39mMAX_STEERING_ANGLE\n\u001b[0;32m    112\u001b[0m )\n",
      "File \u001b[1;32mE:\\Anaconda_folder\\Lib\\site-packages\\highway_env\\vehicle\\behavior.py:254\u001b[0m, in \u001b[0;36mIDMVehicle.change_lane_policy\u001b[1;34m(self)\u001b[0m\n\u001b[0;32m    251\u001b[0m \u001b[38;5;66;03m# decide to make a lane change\u001b[39;00m\n\u001b[0;32m    252\u001b[0m \u001b[38;5;28;01mfor\u001b[39;00m lane_index \u001b[38;5;129;01min\u001b[39;00m \u001b[38;5;28mself\u001b[39m\u001b[38;5;241m.\u001b[39mroad\u001b[38;5;241m.\u001b[39mnetwork\u001b[38;5;241m.\u001b[39mside_lanes(\u001b[38;5;28mself\u001b[39m\u001b[38;5;241m.\u001b[39mlane_index):\n\u001b[0;32m    253\u001b[0m     \u001b[38;5;66;03m# Is the candidate lane close enough?\u001b[39;00m\n\u001b[1;32m--> 254\u001b[0m     \u001b[38;5;28;01mif\u001b[39;00m \u001b[38;5;129;01mnot\u001b[39;00m \u001b[38;5;28mself\u001b[39m\u001b[38;5;241m.\u001b[39mroad\u001b[38;5;241m.\u001b[39mnetwork\u001b[38;5;241m.\u001b[39mget_lane(lane_index)\u001b[38;5;241m.\u001b[39mis_reachable_from(\n\u001b[0;32m    255\u001b[0m         \u001b[38;5;28mself\u001b[39m\u001b[38;5;241m.\u001b[39mposition\n\u001b[0;32m    256\u001b[0m     ):\n\u001b[0;32m    257\u001b[0m         \u001b[38;5;28;01mcontinue\u001b[39;00m\n\u001b[0;32m    258\u001b[0m     \u001b[38;5;66;03m# Only change lane when the vehicle is moving\u001b[39;00m\n",
      "File \u001b[1;32mE:\\Anaconda_folder\\Lib\\site-packages\\highway_env\\road\\lane.py:113\u001b[0m, in \u001b[0;36mAbstractLane.is_reachable_from\u001b[1;34m(self, position)\u001b[0m\n\u001b[0;32m    111\u001b[0m \u001b[38;5;28;01mif\u001b[39;00m \u001b[38;5;28mself\u001b[39m\u001b[38;5;241m.\u001b[39mforbidden:\n\u001b[0;32m    112\u001b[0m     \u001b[38;5;28;01mreturn\u001b[39;00m \u001b[38;5;28;01mFalse\u001b[39;00m\n\u001b[1;32m--> 113\u001b[0m longitudinal, lateral \u001b[38;5;241m=\u001b[39m \u001b[38;5;28mself\u001b[39m\u001b[38;5;241m.\u001b[39mlocal_coordinates(position)\n\u001b[0;32m    114\u001b[0m is_close \u001b[38;5;241m=\u001b[39m (\n\u001b[0;32m    115\u001b[0m     np\u001b[38;5;241m.\u001b[39mabs(lateral) \u001b[38;5;241m<\u001b[39m\u001b[38;5;241m=\u001b[39m \u001b[38;5;241m2\u001b[39m \u001b[38;5;241m*\u001b[39m \u001b[38;5;28mself\u001b[39m\u001b[38;5;241m.\u001b[39mwidth_at(longitudinal)\n\u001b[0;32m    116\u001b[0m     \u001b[38;5;129;01mand\u001b[39;00m \u001b[38;5;241m0\u001b[39m \u001b[38;5;241m<\u001b[39m\u001b[38;5;241m=\u001b[39m longitudinal \u001b[38;5;241m<\u001b[39m \u001b[38;5;28mself\u001b[39m\u001b[38;5;241m.\u001b[39mlength \u001b[38;5;241m+\u001b[39m \u001b[38;5;28mself\u001b[39m\u001b[38;5;241m.\u001b[39mVEHICLE_LENGTH\n\u001b[0;32m    117\u001b[0m )\n\u001b[0;32m    118\u001b[0m \u001b[38;5;28;01mreturn\u001b[39;00m is_close\n",
      "File \u001b[1;32mE:\\Anaconda_folder\\Lib\\site-packages\\highway_env\\road\\lane.py:212\u001b[0m, in \u001b[0;36mStraightLane.local_coordinates\u001b[1;34m(self, position)\u001b[0m\n\u001b[0;32m    210\u001b[0m delta \u001b[38;5;241m=\u001b[39m position \u001b[38;5;241m-\u001b[39m \u001b[38;5;28mself\u001b[39m\u001b[38;5;241m.\u001b[39mstart\n\u001b[0;32m    211\u001b[0m longitudinal \u001b[38;5;241m=\u001b[39m np\u001b[38;5;241m.\u001b[39mdot(delta, \u001b[38;5;28mself\u001b[39m\u001b[38;5;241m.\u001b[39mdirection)\n\u001b[1;32m--> 212\u001b[0m lateral \u001b[38;5;241m=\u001b[39m np\u001b[38;5;241m.\u001b[39mdot(delta, \u001b[38;5;28mself\u001b[39m\u001b[38;5;241m.\u001b[39mdirection_lateral)\n\u001b[0;32m    213\u001b[0m \u001b[38;5;28;01mreturn\u001b[39;00m \u001b[38;5;28mfloat\u001b[39m(longitudinal), \u001b[38;5;28mfloat\u001b[39m(lateral)\n",
      "\u001b[1;31mKeyboardInterrupt\u001b[0m: "
     ]
    }
   ],
   "source": [
    "# Entraînement des 6 modèles\n",
    "# %pip install torch torchvision torchaudio --index-url https://download.pytorch.org/whl/cu126\n",
    "\n",
    "# Vérifier si CUDA est disponible et définir le device\n",
    "device = \"cuda\" if torch.cuda.is_available() else \"cpu\"\n",
    "\n",
    "total_timesteps = 100\n",
    "\n",
    "# DQN (Deep Q-Network):\n",
    "# - buffer_size=15000 : Un buffer relativement modéré pour le DQN, adapté pour un environnement avec une dynamique d'exploration plus lente. Un buffer trop grand pourrait ralentir l'entraînement.\n",
    "# - learning_rate=5e-4 : Une valeur classique pour DQN, offrant un bon compromis entre la stabilité et la vitesse de convergence.\n",
    "# - gamma=0.8 : Un facteur de discount légèrement plus faible pour encourager un apprentissage à plus court terme. Cela peut être utile pour un environnement nécessitant des actions rapides.\n",
    "# - batch_size=32 : Une taille de batch standard, permettant de collecter suffisamment de données tout en restant efficace en termes de temps de calcul.\n",
    "# - target_update_interval=50 : Le modèle met à jour la cible toutes les 50 itérations, un bon compromis pour maintenir la stabilité tout en restant réactif.\n",
    "# - device=\"cuda\" : L'entraînement sur GPU est activé, ce qui permet d'accélérer considérablement le processus d'entraînement pour de grandes tailles de réseau.\n",
    "dqn_model = train_model(\n",
    "    model_class=DQN,\n",
    "    env=env,\n",
    "    model_name=\"dqn_highway\",\n",
    "    total_timesteps=total_timesteps,\n",
    "    policy_kwargs=dict(net_arch=[256, 256]),\n",
    "    learning_rate=5e-4,\n",
    "    buffer_size=15000,\n",
    "    learning_starts=200,\n",
    "    batch_size=32,\n",
    "    gamma=0.8,\n",
    "    train_freq=1,\n",
    "    gradient_steps=1,\n",
    "    target_update_interval=50,\n",
    "    device=device\n",
    ")\n",
    "\n",
    "\n",
    "# PPO (Proximal Policy Optimization):\n",
    "# - learning_rate=3e-4 : Un learning rate modéré pour garantir une bonne stabilité pendant l'apprentissage.\n",
    "# - n_steps=2048 : Le nombre d'étapes de collecte de données par itération d'entraînement, assez grand pour un bon échantillonnage, mais sans surcharger la mémoire.\n",
    "# - batch_size=64 : La taille du batch est ajustée pour maximiser l'efficacité de l'entraînement tout en assurant une bonne convergence.\n",
    "# - gamma=0.99 : Un facteur de discount classique pour un apprentissage plus long terme, favorisant des actions qui maximisent la récompense future.\n",
    "# - gae_lambda=0.95 : L'utilisation de GAE pour mieux estimer les avantages, avec un lambda modéré pour un compromis entre biais et variance.\n",
    "# - clip_range=0.2 : Le clip de la politique pour éviter les mises à jour trop agressives. Cela permet de conserver une bonne stabilité.\n",
    "# - vf_coef=0.5 : La pondération de la fonction de valeur dans la fonction de perte, équilibrant la politique et la valeur.\n",
    "ppo_model = train_model(\n",
    "    model_class=PPO,\n",
    "    env=env,\n",
    "    model_name=\"ppo_highway\",\n",
    "    total_timesteps=total_timesteps,\n",
    "    policy_kwargs=dict(net_arch=[256, 256]),\n",
    "    learning_rate=3e-4,\n",
    "    n_steps=2048,\n",
    "    batch_size=64,\n",
    "    n_epochs=10,\n",
    "    gamma=0.99,\n",
    "    gae_lambda=0.95,\n",
    "    clip_range=0.2,\n",
    "    ent_coef=0.0,\n",
    "    vf_coef=0.5,\n",
    "    max_grad_norm=0.5,\n",
    "    device=device\n",
    ")\n",
    "\n",
    "\n",
    "# A2C (Advantage Actor-Critic):\n",
    "# - learning_rate=3e-4 : Un taux d'apprentissage modéré pour un apprentissage stable tout en évitant les oscillations.\n",
    "# - n_steps=5 : Le nombre d'étapes par itération. Utiliser une petite valeur pour réduire la mémoire et garder un calcul rapide, tout en restant précis.\n",
    "# - gamma=0.99 : Un facteur de discount classique, assurant une prise en compte des récompenses futures sur le long terme.\n",
    "# - vf_coef=0.5 : Un poids équilibré pour la fonction de valeur dans la perte, permettant de maintenir l'équilibre entre la politique et la fonction de valeur.\n",
    "# - max_grad_norm=0.5 : Une normalisation des gradients pour éviter les gradients explosifs et assurer un apprentissage plus stable.\n",
    "a2c_model = train_model(\n",
    "    model_class=A2C,\n",
    "    env=env,\n",
    "    model_name=\"a2c_highway\",\n",
    "    total_timesteps=total_timesteps,\n",
    "    policy_kwargs=dict(net_arch=[256, 256]),\n",
    "    learning_rate=3e-4,\n",
    "    n_steps=5,\n",
    "    gamma=0.99,\n",
    "    gae_lambda=0.95,\n",
    "    ent_coef=0.0,\n",
    "    vf_coef=0.5,\n",
    "    max_grad_norm=0.5,\n",
    "    device=device\n",
    ")\n",
    "\n",
    "# QR-DQN (Quantile Regression DQN):\n",
    "# - learning_rate=1e-3 : Un taux d'apprentissage standard pour QR-DQN, permettant une mise à jour stable des Q-values.\n",
    "# - buffer_size=1000000 : Un grand buffer pour stocker suffisamment de transitions et favoriser une exploration riche.\n",
    "# - batch_size=256 : Une taille de batch standard pour QR-DQN, permettant de calculer des gradients plus stables.\n",
    "# - gamma=0.99 : Un facteur de discount qui prend en compte les récompenses futures à long terme.\n",
    "qrdqn_model = train_model(\n",
    "    model_class=QRDQN,\n",
    "    env=env,\n",
    "    model_name=\"qrdqn_highway\",\n",
    "    total_timesteps=total_timesteps,\n",
    "    policy_kwargs=dict(net_arch=[256, 256]),\n",
    "    learning_rate=1e-3,\n",
    "    buffer_size=1000000,\n",
    "    learning_starts=500,\n",
    "    batch_size=256,\n",
    "    gamma=0.99,\n",
    "    train_freq=1,\n",
    "    gradient_steps=1,\n",
    "    device=device\n",
    ")\n",
    "\n",
    "# TRPO (Trust Region Policy Optimization):\n",
    "# - learning_rate=1e-3 : Un taux d'apprentissage lent pour une mise à jour stable et contrôlée de la politique.\n",
    "# - gamma=0.99 : Un facteur de discount classique qui favorise les récompenses futures.\n",
    "trpo_model = train_model(\n",
    "    model_class=TRPO,\n",
    "    env=env,\n",
    "    model_name=\"trpo_highway\",\n",
    "    total_timesteps=total_timesteps,\n",
    "    policy_kwargs=dict(net_arch=[256, 256]),\n",
    "    learning_rate=1e-3,\n",
    "    gamma=0.99,\n",
    "    device=device\n",
    ")\n",
    "\n",
    "\n",
    "# Augmented Random Search (ARS):\n",
    "# - learning_rate=3e-4 : Un taux d'apprentissage modéré pour garantir une bonne stabilité pendant l'apprentissage.\n",
    "# - n_steps=2048 : Le nombre d'étapes de collecte de données par itération d'entraînement, assez grand pour un bon échantillonnage, mais sans surcharger la mémoire.\n",
    "# - batch_size=64 : La taille du batch est ajustée pour maximiser l'efficacité de l'entraînement tout en assurant une bonne convergence.\n",
    "# - gamma=0.99 : Un facteur de discount classique pour un apprentissage plus long terme, favorisant des actions qui maximisent la récompense future.\n",
    "# - gae_lambda=0.95 : L'utilisation de GAE pour mieux estimer les avantages, avec un lambda modéré pour un compromis entre biais et variance.\n",
    "ars_model = train_model(\n",
    "    model_class=ARS,\n",
    "    env=env,\n",
    "    model_name=\"ars_highway\",\n",
    "    total_timesteps=total_timesteps,\n",
    "    policy_kwargs=dict(net_arch=[256, 256]),  # La politique pour ARS peut ne pas être nécessairement un MLP, mais un réseau simple pour l'optimisation des paramètres.\n",
    "    learning_rate=3e-4,\n",
    "    device=device\n",
    ")\n",
    "\n",
    "\n",
    "\n",
    "# Sauvegarder les modèles finaux\n",
    "ppo_model.save(\"highway_ppo_final\")\n",
    "dqn_model.save(\"highway_dqn_final\")\n",
    "a2c_model.save(\"highway_a2c_final\")\n",
    "qrdqn_model.save(\"highway_qrdqn_final\")\n",
    "trpo_model.save(\"highway_trpo_final\")\n",
    "ars_model.save(\"highway_ars_final\")\n",
    "\n",
    "print(\"Entraînement terminé ! Modèles sauvegardés.\")\n"
   ]
  },
  {
   "cell_type": "code",
   "execution_count": 18,
   "metadata": {
    "id": "FjNySEdF89aM"
   },
   "outputs": [
    {
     "name": "stdout",
     "output_type": "stream",
     "text": [
      "\n",
      "Évaluation du modèle DQN...\n",
      "evaluating Model on 30 episodes ...\n"
     ]
    },
    {
     "name": "stderr",
     "output_type": "stream",
     "text": [
      "  0%|          | 0/30 [00:00<?, ?it/s]"
     ]
    },
    {
     "name": "stderr",
     "output_type": "stream",
     "text": [
      "100%|██████████| 30/30 [00:12<00:00,  2.44it/s]\n"
     ]
    },
    {
     "name": "stdout",
     "output_type": "stream",
     "text": [
      "\n",
      "--------------------------------------------------\n",
      "Results :\n",
      "\t- Mean Reward: 11.354 ± 6.77 \n",
      "\t- Mean elapsed Time per episode: 14.567 ± 8.16\n",
      "--------------------------------------------------\n",
      "Récompense totale du modèle DQN : (np.float32(11.354009), np.float64(14.566666666666666))\n",
      "\n",
      "Évaluation du modèle PPO...\n",
      "evaluating Model on 30 episodes ...\n"
     ]
    },
    {
     "name": "stderr",
     "output_type": "stream",
     "text": [
      "100%|██████████| 30/30 [00:24<00:00,  1.22it/s]\n"
     ]
    },
    {
     "name": "stdout",
     "output_type": "stream",
     "text": [
      "\n",
      "--------------------------------------------------\n",
      "Results :\n",
      "\t- Mean Reward: 21.035 ± 0.80 \n",
      "\t- Mean elapsed Time per episode: 30.000 ± 0.00\n",
      "--------------------------------------------------\n",
      "Récompense totale du modèle PPO : (np.float32(21.034634), np.float64(30.0))\n",
      "\n",
      "Évaluation du modèle A2C...\n",
      "evaluating Model on 30 episodes ...\n"
     ]
    },
    {
     "name": "stderr",
     "output_type": "stream",
     "text": [
      "100%|██████████| 30/30 [00:12<00:00,  2.37it/s]\n"
     ]
    },
    {
     "name": "stdout",
     "output_type": "stream",
     "text": [
      "\n",
      "--------------------------------------------------\n",
      "Results :\n",
      "\t- Mean Reward: 11.695 ± 7.53 \n",
      "\t- Mean elapsed Time per episode: 14.733 ± 9.05\n",
      "--------------------------------------------------\n",
      "Récompense totale du modèle A2C : (np.float32(11.69466), np.float64(14.733333333333333))\n",
      "\n",
      "Évaluation du modèle QR-DQN...\n",
      "evaluating Model on 30 episodes ...\n"
     ]
    },
    {
     "name": "stderr",
     "output_type": "stream",
     "text": [
      "100%|██████████| 30/30 [00:24<00:00,  1.21it/s]\n"
     ]
    },
    {
     "name": "stdout",
     "output_type": "stream",
     "text": [
      "\n",
      "--------------------------------------------------\n",
      "Results :\n",
      "\t- Mean Reward: 20.471 ± 0.99 \n",
      "\t- Mean elapsed Time per episode: 29.833 ± 0.90\n",
      "--------------------------------------------------\n",
      "Récompense totale du modèle QR-DQN : (np.float32(20.47106), np.float64(29.833333333333332))\n",
      "\n",
      "Évaluation du modèle TRPO...\n",
      "evaluating Model on 30 episodes ...\n"
     ]
    },
    {
     "name": "stderr",
     "output_type": "stream",
     "text": [
      "100%|██████████| 30/30 [00:24<00:00,  1.20it/s]\n"
     ]
    },
    {
     "name": "stdout",
     "output_type": "stream",
     "text": [
      "\n",
      "--------------------------------------------------\n",
      "Results :\n",
      "\t- Mean Reward: 20.887 ± 0.76 \n",
      "\t- Mean elapsed Time per episode: 30.000 ± 0.00\n",
      "--------------------------------------------------\n",
      "Récompense totale du modèle TRPO : (np.float32(20.886885), np.float64(30.0))\n",
      "\n",
      "Évaluation du modèle ARS...\n",
      "evaluating Model on 30 episodes ...\n"
     ]
    },
    {
     "name": "stderr",
     "output_type": "stream",
     "text": [
      "100%|██████████| 30/30 [00:24<00:00,  1.24it/s]\n"
     ]
    },
    {
     "name": "stdout",
     "output_type": "stream",
     "text": [
      "\n",
      "--------------------------------------------------\n",
      "Results :\n",
      "\t- Mean Reward: 20.720 ± 2.48 \n",
      "\t- Mean elapsed Time per episode: 29.433 ± 3.05\n",
      "--------------------------------------------------\n",
      "Récompense totale du modèle ARS : (np.float32(20.720219), np.float64(29.433333333333334))\n",
      "\n",
      "Comparaison des modèles :\n",
      "evaluating Model on 30 episodes ...\n"
     ]
    },
    {
     "name": "stderr",
     "output_type": "stream",
     "text": [
      "100%|██████████| 30/30 [00:12<00:00,  2.48it/s]\n"
     ]
    },
    {
     "name": "stdout",
     "output_type": "stream",
     "text": [
      "\n",
      "--------------------------------------------------\n",
      "Results :\n",
      "\t- Mean Reward: 11.177 ± 5.87 \n",
      "\t- Mean elapsed Time per episode: 14.333 ± 7.05\n",
      "--------------------------------------------------\n",
      "DQN : (np.float32(11.176668), np.float64(14.333333333333334))\n",
      "evaluating Model on 30 episodes ...\n"
     ]
    },
    {
     "name": "stderr",
     "output_type": "stream",
     "text": [
      "100%|██████████| 30/30 [00:24<00:00,  1.23it/s]\n"
     ]
    },
    {
     "name": "stdout",
     "output_type": "stream",
     "text": [
      "\n",
      "--------------------------------------------------\n",
      "Results :\n",
      "\t- Mean Reward: 20.287 ± 2.88 \n",
      "\t- Mean elapsed Time per episode: 29.300 ± 3.77\n",
      "--------------------------------------------------\n",
      "PPO : (np.float32(20.286886), np.float64(29.3))\n",
      "evaluating Model on 30 episodes ...\n"
     ]
    },
    {
     "name": "stderr",
     "output_type": "stream",
     "text": [
      "100%|██████████| 30/30 [00:13<00:00,  2.27it/s]\n"
     ]
    },
    {
     "name": "stdout",
     "output_type": "stream",
     "text": [
      "\n",
      "--------------------------------------------------\n",
      "Results :\n",
      "\t- Mean Reward: 12.461 ± 7.19 \n",
      "\t- Mean elapsed Time per episode: 15.533 ± 8.66\n",
      "--------------------------------------------------\n",
      "A2C : (np.float32(12.461456), np.float64(15.533333333333333))\n",
      "evaluating Model on 30 episodes ...\n"
     ]
    },
    {
     "name": "stderr",
     "output_type": "stream",
     "text": [
      "100%|██████████| 30/30 [00:24<00:00,  1.24it/s]\n"
     ]
    },
    {
     "name": "stdout",
     "output_type": "stream",
     "text": [
      "\n",
      "--------------------------------------------------\n",
      "Results :\n",
      "\t- Mean Reward: 20.322 ± 1.98 \n",
      "\t- Mean elapsed Time per episode: 29.500 ± 2.69\n",
      "--------------------------------------------------\n",
      "QR-DQN : (np.float32(20.322254), np.float64(29.5))\n",
      "evaluating Model on 30 episodes ...\n"
     ]
    },
    {
     "name": "stderr",
     "output_type": "stream",
     "text": [
      "100%|██████████| 30/30 [00:24<00:00,  1.22it/s]\n"
     ]
    },
    {
     "name": "stdout",
     "output_type": "stream",
     "text": [
      "\n",
      "--------------------------------------------------\n",
      "Results :\n",
      "\t- Mean Reward: 20.514 ± 1.78 \n",
      "\t- Mean elapsed Time per episode: 29.567 ± 2.33\n",
      "--------------------------------------------------\n",
      "TRPO : (np.float32(20.513552), np.float64(29.566666666666666))\n",
      "evaluating Model on 30 episodes ...\n"
     ]
    },
    {
     "name": "stderr",
     "output_type": "stream",
     "text": [
      "100%|██████████| 30/30 [00:24<00:00,  1.21it/s]"
     ]
    },
    {
     "name": "stdout",
     "output_type": "stream",
     "text": [
      "\n",
      "--------------------------------------------------\n",
      "Results :\n",
      "\t- Mean Reward: 21.187 ± 0.82 \n",
      "\t- Mean elapsed Time per episode: 30.000 ± 0.00\n",
      "--------------------------------------------------\n",
      "ARS : (np.float32(21.186886), np.float64(30.0))\n"
     ]
    },
    {
     "name": "stderr",
     "output_type": "stream",
     "text": [
      "\n"
     ]
    }
   ],
   "source": [
    "# Comparaison des modèles\n",
    "models = {\n",
    "    \"DQN\": dqn_model,\n",
    "    \"PPO\": ppo_model,\n",
    "    \"A2C\": a2c_model,\n",
    "    \"QR-DQN\": qrdqn_model,\n",
    "    \"TRPO\": trpo_model,\n",
    "    \"ARS\": ars_model\n",
    "}\n",
    "\n",
    "# Évaluation et affichage des résultats pour tous les modèles\n",
    "for model_name, model in models.items():\n",
    "    print(f\"\\nÉvaluation du modèle {model_name}...\")\n",
    "    model_reward = evaluate(model)\n",
    "    print(f\"Récompense totale du modèle {model_name} : {model_reward}\")\n",
    "\n",
    "# Comparer les performances (Récompenses)\n",
    "print(\"\\nComparaison des modèles :\")\n",
    "for model_name, model in models.items():\n",
    "    model_reward = evaluate(model)\n",
    "    print(f\"{model_name} : {model_reward}\")"
   ]
  },
  {
   "cell_type": "code",
   "execution_count": 19,
   "metadata": {
    "id": "QjtLbM4x2FSP"
   },
   "outputs": [],
   "source": [
    "### SAVE YOUR FINAL MODEL\n",
    "model_final = qrdqn_model #YOUR MODEL\n",
    "model_final.save(\"highway_final\")"
   ]
  },
  {
   "cell_type": "markdown",
   "metadata": {
    "id": "Mt0SpTCBuLOE"
   },
   "source": [
    "# Evalutation\n",
    "⚠️ *Do not Modify anything here !*\n",
    "\n",
    "Now that your Agents are trained, we evaluate them"
   ]
  },
  {
   "cell_type": "code",
   "execution_count": 20,
   "metadata": {
    "id": "b9Fw8ycCuKp0"
   },
   "outputs": [
    {
     "name": "stdout",
     "output_type": "stream",
     "text": [
      "evaluating Model on 30 episodes ...\n"
     ]
    },
    {
     "name": "stderr",
     "output_type": "stream",
     "text": [
      "  0%|          | 0/30 [00:00<?, ?it/s]"
     ]
    },
    {
     "name": "stderr",
     "output_type": "stream",
     "text": [
      "100%|██████████| 30/30 [00:24<00:00,  1.24it/s]"
     ]
    },
    {
     "name": "stdout",
     "output_type": "stream",
     "text": [
      "\n",
      "--------------------------------------------------\n",
      "Results :\n",
      "\t- Mean Reward: 20.112 ± 2.98 \n",
      "\t- Mean elapsed Time per episode: 29.233 ± 4.13\n",
      "--------------------------------------------------\n"
     ]
    },
    {
     "name": "stderr",
     "output_type": "stream",
     "text": [
      "\n"
     ]
    },
    {
     "data": {
      "text/plain": [
       "(np.float32(20.112238), np.float64(29.233333333333334))"
      ]
     },
     "execution_count": 20,
     "metadata": {},
     "output_type": "execute_result"
    }
   ],
   "source": [
    "evaluate(model_final)"
   ]
  },
  {
   "cell_type": "code",
   "execution_count": 21,
   "metadata": {
    "id": "OaZButoeyByP"
   },
   "outputs": [
    {
     "name": "stderr",
     "output_type": "stream",
     "text": [
      " 99%|█████████▊| 69/70 [00:23<00:00,  3.20it/s]"
     ]
    },
    {
     "name": "stdout",
     "output_type": "stream",
     "text": [
      "Saving video to c:\\Users\\Tom-Hugues\\Desktop\\Master EFREI\\M2\\S9\\4 - Reinforcement learning\\Projet\\videos\\trained-agent-step-0-to-step-70.mp4\n",
      "MoviePy - Building video c:\\Users\\Tom-Hugues\\Desktop\\Master EFREI\\M2\\S9\\4 - Reinforcement learning\\Projet\\videos\\trained-agent-step-0-to-step-70.mp4.\n",
      "MoviePy - Writing video c:\\Users\\Tom-Hugues\\Desktop\\Master EFREI\\M2\\S9\\4 - Reinforcement learning\\Projet\\videos\\trained-agent-step-0-to-step-70.mp4\n",
      "\n"
     ]
    },
    {
     "name": "stderr",
     "output_type": "stream",
     "text": [
      "100%|██████████| 70/70 [00:23<00:00,  2.96it/s]"
     ]
    },
    {
     "name": "stdout",
     "output_type": "stream",
     "text": [
      "MoviePy - Done !\n",
      "MoviePy - video ready c:\\Users\\Tom-Hugues\\Desktop\\Master EFREI\\M2\\S9\\4 - Reinforcement learning\\Projet\\videos\\trained-agent-step-0-to-step-70.mp4\n"
     ]
    },
    {
     "name": "stderr",
     "output_type": "stream",
     "text": [
      "\n"
     ]
    },
    {
     "data": {
      "text/html": [
       "<video alt=\"videos\\trained-agent-step-0-to-step-70.mp4\" autoplay\n",
       "                    loop controls style=\"height: 200px;\">\n",
       "                    <source src=\"data:video/mp4;base64,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\" type=\"video/mp4\" />\n",
       "                </video>"
      ],
      "text/plain": [
       "<IPython.core.display.HTML object>"
      ]
     },
     "metadata": {},
     "output_type": "display_data"
    }
   ],
   "source": [
    "env_id = \"highway-v0\"\n",
    "# Generate video of trained model\n",
    "record_video(env_id, model_final, video_length=70, prefix=\"trained-agent\", fps = 5)\n",
    "show_videos(\"videos\", prefix=\"trained-agent\")"
   ]
  },
  {
   "cell_type": "markdown",
   "metadata": {
    "id": "RQL90gA0zW9b"
   },
   "source": [
    "# 🎁 Bonus\n",
    "If it was too easy for your, you can also try to train an agent on an even more difficult environment, for instance the `racetrack` *(see the highway env repo for other possible environments)*\n",
    "\n",
    "---\n",
    "![](https://raw.githubusercontent.com/eleurent/highway-env/gh-media/docs/media/racetrack-env.gif?raw=true)\n"
   ]
  }
 ],
 "metadata": {
  "colab": {
   "collapsed_sections": [
    "Wfl7SO8UKFN6"
   ],
   "provenance": []
  },
  "kernelspec": {
   "display_name": "Python 3 (ipykernel)",
   "language": "python",
   "name": "python3"
  },
  "language_info": {
   "codemirror_mode": {
    "name": "ipython",
    "version": 3
   },
   "file_extension": ".py",
   "mimetype": "text/x-python",
   "name": "python",
   "nbconvert_exporter": "python",
   "pygments_lexer": "ipython3",
   "version": "3.12.7"
  }
 },
 "nbformat": 4,
 "nbformat_minor": 4
}
